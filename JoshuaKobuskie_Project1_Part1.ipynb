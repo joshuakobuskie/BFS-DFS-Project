{
 "cells": [
  {
   "cell_type": "markdown",
   "id": "fd5353a3",
   "metadata": {},
   "source": [
    "# Joshua Kobuskie\n",
    "## CS670-850\n",
    "## June 22nd, 2025\n",
    "## Project 1 Part 1"
   ]
  },
  {
   "cell_type": "markdown",
   "id": "9373de87",
   "metadata": {},
   "source": [
    "The Lion, Goat, and Grass problem is a classic example of a river crossing puzzle. In this problem, a farmer needs to transport a lion, a goat, and grass across a river. The farmer has a boat that is small and can only carry one of these items along with the farmer at a time. The challenge arises from the following constraints:  \n",
    "1. If the lion and the goat are left together on the same side of the river without the farmer, the lion will eat the goat.  \n",
    "2. If the goat and the grass are left together on the same side of the river without the farmer, the goat will eat the grass.  \n",
    "\n",
    "The goal is to devise a strategy that allows the farmer to transport all three items (the lion, the goat, and the grass) across the river without any of them being eaten.  \n",
    "\n",
    "We can represent the state with a tuple of four boolean values (farmer, lion, goat, grass), where False might represent an item being on the original side (left) and True being on the destination side (right). Not all tuples are valid."
   ]
  },
  {
   "cell_type": "markdown",
   "id": "2a3f0349",
   "metadata": {},
   "source": [
    "A tuple is defined to capture the configuration of the man, lion, goat, and grass in this order, with \"False\" meaning that the item is on the left side and \"True\" meaning that the item is on the right side. The index for each item is saved for easier reference. The validate_problem_constraints function is then defined to determine if a given tuple will result in items being eaten, which would make the configuration invalid. The display_current_problem_layout function is defined to show which items are on each side."
   ]
  },
  {
   "cell_type": "code",
   "execution_count": 1,
   "id": "13f3f482",
   "metadata": {},
   "outputs": [],
   "source": [
    "# The tuple will store the information as follows:\n",
    "# (Man, Lion, Goat, Grass)\n",
    "# False will mean that the item is on the left side\n",
    "# True will mean that the item is on the right side\n",
    "\n",
    "# Easier to remember indexes\n",
    "man = 0\n",
    "lion = 1\n",
    "goat = 2\n",
    "grass = 3\n",
    "\n",
    "# Enforce Constraints\n",
    "def validate_problem_constraints(problem_configuration):\n",
    "\n",
    "    # Lion eats goat if without the farmer\n",
    "    if problem_configuration[lion] == problem_configuration[goat] and problem_configuration[man] != problem_configuration[lion]:\n",
    "        return False\n",
    "\n",
    "    # Goat eats grass if without the farmer\n",
    "    if problem_configuration[goat] == problem_configuration[grass] and problem_configuration[man] != problem_configuration[goat]:\n",
    "        return False\n",
    "    \n",
    "    return True\n",
    "\n",
    "# Print configuration of items\n",
    "def display_current_problem_layout(problem_configuration):\n",
    "    print(\"Starting Side: {}{}{}{}\".format(\"Man \" if not problem_configuration[man] else \"\", \"Lion \" if not problem_configuration[lion] else \"\", \"Goat \" if not problem_configuration[goat] else \"\", \"Grass \" if not problem_configuration[grass] else \"\"))\n",
    "    print(\"Target Side: {}{}{}{}\".format(\"Man \" if problem_configuration[man] else \"\", \"Lion \" if problem_configuration[lion] else \"\", \"Goat \" if problem_configuration[goat] else \"\", \"Grass \" if problem_configuration[grass] else \"\"))\n",
    "    print()"
   ]
  },
  {
   "cell_type": "markdown",
   "id": "17b15ae4",
   "metadata": {},
   "source": [
    "A quick check is performed to confirm that the validate_problem_constraints function and display_current_problem_layout function work as intended."
   ]
  },
  {
   "cell_type": "code",
   "execution_count": 2,
   "id": "503e98d8",
   "metadata": {},
   "outputs": [
    {
     "name": "stdout",
     "output_type": "stream",
     "text": [
      "Valid: Everyone is on the left side: True\n",
      "Starting Side: Man Lion Goat Grass \n",
      "Target Side: \n",
      "\n",
      "\n",
      "Invalid: The lion and goat are left without the farmer: False\n",
      "Starting Side: Man Grass \n",
      "Target Side: Lion Goat \n",
      "\n",
      "\n",
      "Invalid: The goat and grass are left without the farmer: False\n",
      "Starting Side: Goat Grass \n",
      "Target Side: Man Lion \n",
      "\n"
     ]
    }
   ],
   "source": [
    "sample_case_1 = (False, False, False, False)\n",
    "sample_case_2 = (False, True, True, False)\n",
    "sample_case_3 = (True, True, False, False)\n",
    "\n",
    "print(\"Valid: Everyone is on the left side: {}\".format(validate_problem_constraints(sample_case_1)))\n",
    "display_current_problem_layout(sample_case_1)\n",
    "print()\n",
    "\n",
    "print(\"Invalid: The lion and goat are left without the farmer: {}\".format(validate_problem_constraints(sample_case_2)))\n",
    "display_current_problem_layout(sample_case_2)\n",
    "print()\n",
    "\n",
    "print(\"Invalid: The goat and grass are left without the farmer: {}\".format(validate_problem_constraints(sample_case_3)))\n",
    "display_current_problem_layout(sample_case_3)"
   ]
  },
  {
   "cell_type": "markdown",
   "id": "00a3cc88",
   "metadata": {},
   "source": [
    "The initial configuration and target configuration are then defined, and the generate_potential_children_configurations function is created to determine which moves to new configurations can be made. This function checks each combination of moves with the constraints of the problem using the validate_problem_constraints function, and also considers if the man is on the same side as the item that he is attempting to move. The generate_potential_children_configurations function returns the possible children configurations from the given configuration that are within the constraints."
   ]
  },
  {
   "cell_type": "code",
   "execution_count": 3,
   "id": "26263165",
   "metadata": {},
   "outputs": [],
   "source": [
    "initial_configuration = (False, False, False, False)\n",
    "target_configuration = (True, True, True, True)\n",
    "\n",
    "def generate_potential_children_configurations(problem_configuration):\n",
    "    potential_children_configurations = []\n",
    "\n",
    "    # Man can always move\n",
    "    potential_state = (not problem_configuration[man], problem_configuration[lion], problem_configuration[goat], problem_configuration[grass])\n",
    "    # Check if we can move without violating the constraints\n",
    "    if validate_problem_constraints(potential_state):\n",
    "        potential_children_configurations.append(potential_state)\n",
    "\n",
    "    # Check if man and lion are on the same side\n",
    "    if problem_configuration[man] == problem_configuration[lion]:\n",
    "        potential_state = (not problem_configuration[man], not problem_configuration[lion], problem_configuration[goat], problem_configuration[grass])\n",
    "        # Check if we can move without violating the constraints\n",
    "        if validate_problem_constraints(potential_state):\n",
    "            potential_children_configurations.append(potential_state)\n",
    "        \n",
    "    # Check if man and goat are on the same side\n",
    "    if problem_configuration[man] == problem_configuration[goat]:\n",
    "        potential_state = (not problem_configuration[man], problem_configuration[lion], not problem_configuration[goat], problem_configuration[grass])\n",
    "        # Check if we can move without violating the constraints\n",
    "        if validate_problem_constraints(potential_state):\n",
    "            potential_children_configurations.append(potential_state)\n",
    "        \n",
    "    # Check if man and grass are on the same side\n",
    "    if problem_configuration[man] == problem_configuration[grass]:\n",
    "        potential_state = (not problem_configuration[man], problem_configuration[lion], problem_configuration[goat], not problem_configuration[grass])\n",
    "        # Check if we can move without violating the constraints\n",
    "        if validate_problem_constraints(potential_state):\n",
    "            potential_children_configurations.append(potential_state)\n",
    "    \n",
    "    return potential_children_configurations"
   ]
  },
  {
   "cell_type": "markdown",
   "id": "259d2098",
   "metadata": {},
   "source": [
    "The Breadth First Search Algorithm is defined using a First-In First-Out (FIFO) queue. Each item in the frontier queue stores the configuration sequence to the current problem configuration, and the final item in the configuration sequence is the current problem configuration. This allows for easy tracking of the configuration sequence to the target configuration when reached. Each item is popped off the front of the frontier queue to ensure a FIFO structure and the problem configuration is compared against the target configuration. If the problem configuration matches the target configuration, the configuration sequence to the target configuration is returned. If it is not the target configuration, the possible children configurations from this configuration are determined using the generate_possible_children_configurations function and only unvisited configurations will be explored to make the search more efficient. Unvisited children configurations are then added to the back of the frontier queue, and the frontier queue is searched until either the target configuration is found or there is no possible solution discovered."
   ]
  },
  {
   "cell_type": "code",
   "execution_count": 4,
   "id": "80e077eb",
   "metadata": {},
   "outputs": [],
   "source": [
    "def breadth_first_search(initial_configuration, target_configuration):\n",
    "\n",
    "    # Storing each configuration and the sequence of configurations that follow as an array in the queue\n",
    "    # BFS uses a FIFO Queue\n",
    "    frontier_queue = [[initial_configuration]]\n",
    "    explored_configurations = set([initial_configuration])\n",
    "\n",
    "    while frontier_queue:\n",
    "        # Pop left for FIFO\n",
    "        configuration_sequence = frontier_queue.pop(0)\n",
    "        # Current configuration in this sequence\n",
    "        problem_configuration = configuration_sequence[-1]\n",
    "\n",
    "        # Reached the target configuration\n",
    "        if problem_configuration == target_configuration:\n",
    "            return configuration_sequence\n",
    "\n",
    "        # Check all possible child configurations\n",
    "        for next_problem_configuration in generate_potential_children_configurations(problem_configuration):\n",
    "            # Only evaluate if we have not seen this configuration before and then add to queue\n",
    "            if next_problem_configuration not in explored_configurations:\n",
    "                explored_configurations.add(next_problem_configuration)\n",
    "                next_configuration_sequence = configuration_sequence.copy()\n",
    "                next_configuration_sequence.append(next_problem_configuration)\n",
    "                frontier_queue.append(next_configuration_sequence)\n",
    "    \n",
    "    # No solution\n",
    "    return None"
   ]
  },
  {
   "cell_type": "markdown",
   "id": "4dba84c5",
   "metadata": {},
   "source": [
    "The BFS algorithm is used to find the solution to the lion, goat, grass problem and the results are printed."
   ]
  },
  {
   "cell_type": "code",
   "execution_count": 5,
   "id": "db9c8713",
   "metadata": {},
   "outputs": [
    {
     "name": "stdout",
     "output_type": "stream",
     "text": [
      "Starting Side: Man Lion Goat Grass \n",
      "Target Side: \n",
      "\n",
      "Starting Side: Lion Grass \n",
      "Target Side: Man Goat \n",
      "\n",
      "Starting Side: Man Lion Grass \n",
      "Target Side: Goat \n",
      "\n",
      "Starting Side: Grass \n",
      "Target Side: Man Lion Goat \n",
      "\n",
      "Starting Side: Man Goat Grass \n",
      "Target Side: Lion \n",
      "\n",
      "Starting Side: Goat \n",
      "Target Side: Man Lion Grass \n",
      "\n",
      "Starting Side: Man Goat \n",
      "Target Side: Lion Grass \n",
      "\n",
      "Starting Side: \n",
      "Target Side: Man Lion Goat Grass \n",
      "\n"
     ]
    }
   ],
   "source": [
    "final_configuration_sequence = breadth_first_search(initial_configuration, target_configuration)\n",
    "\n",
    "if final_configuration_sequence:\n",
    "    for problem_configuration in final_configuration_sequence:\n",
    "        display_current_problem_layout(problem_configuration)\n",
    "else:\n",
    "    print(\"No solution!\")"
   ]
  }
 ],
 "metadata": {
  "kernelspec": {
   "display_name": "Python 3",
   "language": "python",
   "name": "python3"
  },
  "language_info": {
   "codemirror_mode": {
    "name": "ipython",
    "version": 3
   },
   "file_extension": ".py",
   "mimetype": "text/x-python",
   "name": "python",
   "nbconvert_exporter": "python",
   "pygments_lexer": "ipython3",
   "version": "3.12.8"
  }
 },
 "nbformat": 4,
 "nbformat_minor": 5
}
