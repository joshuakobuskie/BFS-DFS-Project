{
 "cells": [
  {
   "cell_type": "markdown",
   "id": "fd5353a3",
   "metadata": {},
   "source": [
    "# Joshua Kobuskie\n",
    "## CS670-850\n",
    "## June 29th, 2025\n",
    "## Project 1 Part 2"
   ]
  },
  {
   "cell_type": "markdown",
   "id": "ae38bf77",
   "metadata": {},
   "source": [
    "In Part 2 of Project 1, the problem statement and setup remain the same as in Part 1. However, instead of solving the problem using Breadth First Search (BFS), Depth First Search (DFS) is used."
   ]
  },
  {
   "cell_type": "markdown",
   "id": "9373de87",
   "metadata": {},
   "source": [
    "The Lion, Goat, and Grass problem is a classic example of a river crossing puzzle. In this problem, a farmer needs to transport a lion, a goat, and grass across a river. The farmer has a boat that is small and can only carry one of these items along with the farmer at a time. The challenge arises from the following constraints:  \n",
    "1. If the lion and the goat are left together on the same side of the river without the farmer, the lion will eat the goat.  \n",
    "2. If the goat and the grass are left together on the same side of the river without the farmer, the goat will eat the grass.  \n",
    "\n",
    "The goal is to devise a strategy that allows the farmer to transport all three items (the lion, the goat, and the grass) across the river without any of them being eaten.  \n",
    "\n",
    "We can represent the state with a tuple of four boolean values (farmer, lion, goat, grass), where False might represent an item being on the original side (left) and True being on the destination side (right). Not all tuples are valid."
   ]
  },
  {
   "cell_type": "markdown",
   "id": "2a3f0349",
   "metadata": {},
   "source": [
    "A tuple is defined to capture the state of the man, lion, goat, and grass in this order, with \"False\" meaning that the item is on the left side and \"True\" meaning that the item is on the right side. The index for each item is saved for easier reference. The check_constraints function is then defined to determine if a given tuple will result in items being eaten, which would make the state invalid. The print_state function is defined to show which items are on each side."
   ]
  },
  {
   "cell_type": "code",
   "execution_count": 6,
   "id": "13f3f482",
   "metadata": {},
   "outputs": [],
   "source": [
    "# The tuple will store the information as follows:\n",
    "# (Man, Lion, Goat, Grass)\n",
    "# False will mean that the item is on the left side\n",
    "# True will mean that the item is on the right side\n",
    "\n",
    "# Easier to remember indexes\n",
    "man = 0\n",
    "lion = 1\n",
    "goat = 2\n",
    "grass = 3\n",
    "\n",
    "# Enforce Constraints\n",
    "def check_constraints(state):\n",
    "\n",
    "    # Lion eats goat if without the farmer\n",
    "    if state[lion] == state[goat] and state[man] != state[lion]:\n",
    "        return False\n",
    "\n",
    "    # Goat eats grass if without the farmer\n",
    "    if state[goat] == state[grass] and state[man] != state[goat]:\n",
    "        return False\n",
    "    \n",
    "    return True\n",
    "\n",
    "# Print state of items\n",
    "def print_state(state):\n",
    "    print(\"Starting Side: {}{}{}{}\".format(\"Man \" if not state[man] else \"\", \"Lion \" if not state[lion] else \"\", \"Goat \" if not state[goat] else \"\", \"Grass \" if not state[grass] else \"\"))\n",
    "    print(\"Target Side: {}{}{}{}\".format(\"Man \" if state[man] else \"\", \"Lion \" if state[lion] else \"\", \"Goat \" if state[goat] else \"\", \"Grass \" if state[grass] else \"\"))\n",
    "    print()"
   ]
  },
  {
   "cell_type": "markdown",
   "id": "17b15ae4",
   "metadata": {},
   "source": [
    "A quick check is performed to confirm that the check_constraints function and print_state function work as intended."
   ]
  },
  {
   "cell_type": "code",
   "execution_count": 7,
   "id": "503e98d8",
   "metadata": {},
   "outputs": [
    {
     "name": "stdout",
     "output_type": "stream",
     "text": [
      "Valid: Everyone is on the left side: True\n",
      "Starting Side: Man Lion Goat Grass \n",
      "Target Side: \n",
      "\n",
      "\n",
      "Invalid: The lion and goat are left without the farmer: False\n",
      "Starting Side: Man Grass \n",
      "Target Side: Lion Goat \n",
      "\n",
      "\n",
      "Invalid: The goat and grass are left without the farmer: False\n",
      "Starting Side: Goat Grass \n",
      "Target Side: Man Lion \n",
      "\n"
     ]
    }
   ],
   "source": [
    "example_1 = (False, False, False, False)\n",
    "example_2 = (False, True, True, False)\n",
    "example_3 = (True, True, False, False)\n",
    "\n",
    "print(\"Valid: Everyone is on the left side: {}\".format(check_constraints(example_1)))\n",
    "print_state(example_1)\n",
    "print()\n",
    "\n",
    "print(\"Invalid: The lion and goat are left without the farmer: {}\".format(check_constraints(example_2)))\n",
    "print_state(example_2)\n",
    "print()\n",
    "\n",
    "print(\"Invalid: The goat and grass are left without the farmer: {}\".format(check_constraints(example_3)))\n",
    "print_state(example_3)"
   ]
  },
  {
   "cell_type": "markdown",
   "id": "00a3cc88",
   "metadata": {},
   "source": [
    "The starting state and goal states are then defined, and the next_states function is created to determine which moves can be made. This function checks each combination of moves with the constraints of the problem using the check_constraints function, and also considers if the man is on the same side as the item that he is attempting to move. The next_states function returns the possible next states from the given state that are within the constraints."
   ]
  },
  {
   "cell_type": "code",
   "execution_count": 8,
   "id": "26263165",
   "metadata": {},
   "outputs": [],
   "source": [
    "start = (False, False, False, False)\n",
    "goal = (True, True, True, True)\n",
    "\n",
    "def next_states(state):\n",
    "    moves = []\n",
    "\n",
    "    # Man can always move\n",
    "    potential_state = (not state[man], state[lion], state[goat], state[grass])\n",
    "    # Check if we can move without violating the constraints\n",
    "    if check_constraints(potential_state):\n",
    "        moves.append(potential_state)\n",
    "\n",
    "    # Check if man and lion are on the same side\n",
    "    if state[man] == state[lion]:\n",
    "        potential_state = (not state[man], not state[lion], state[goat], state[grass])\n",
    "        # Check if we can move without violating the constraints\n",
    "        if check_constraints(potential_state):\n",
    "            moves.append(potential_state)\n",
    "        \n",
    "    # Check if man and goat are on the same side\n",
    "    if state[man] == state[goat]:\n",
    "        potential_state = (not state[man], state[lion], not state[goat], state[grass])\n",
    "        # Check if we can move without violating the constraints\n",
    "        if check_constraints(potential_state):\n",
    "            moves.append(potential_state)\n",
    "        \n",
    "    # Check if man and grass are on the same side\n",
    "    if state[man] == state[grass]:\n",
    "        potential_state = (not state[man], state[lion], state[goat], not state[grass])\n",
    "        # Check if we can move without violating the constraints\n",
    "        if check_constraints(potential_state):\n",
    "            moves.append(potential_state)\n",
    "    \n",
    "    return moves"
   ]
  },
  {
   "cell_type": "markdown",
   "id": "259d2098",
   "metadata": {},
   "source": [
    "The Depth First Search Algorithm is defined using a Last-In First-Out (LIFO) stack. Each item in the stack stores the path to the current state, and the final value in the path is the current state. This allows for easy tracking of the path to the goal state when reached. Each item is popped off the stack from the top to ensure a LIFO structure and the state is compared against the goal state. If the state matches the goal state, the path to the goal state is returned. If it is not the goal state, the possible next states from this state are determined using the next_states function and only unvisited states will be explored to make the search more efficient. Unvisited next states are then added to the top of the stack, and the stack is searched until either the goal state is found or there is no possible solution discovered."
   ]
  },
  {
   "cell_type": "code",
   "execution_count": 9,
   "id": "80e077eb",
   "metadata": {},
   "outputs": [],
   "source": [
    "def dfs(start, goal):\n",
    "\n",
    "    # Storing each state and the path of states that follow as an array in the stack\n",
    "    # DFS uses a LIFO Stack\n",
    "    stack = [[start]]\n",
    "    visited = set([start])\n",
    "\n",
    "    while stack:\n",
    "        # Pop right for LIFO\n",
    "        path = stack.pop()\n",
    "        # Current state in this path\n",
    "        state = path[-1]\n",
    "\n",
    "        # Reached the goal state\n",
    "        if state == goal:\n",
    "            return path\n",
    "\n",
    "        # Check all possible moves\n",
    "        for next_state in next_states(state):\n",
    "            # Only evaluate if we have not seen this state before and then add to stack\n",
    "            if next_state not in visited:\n",
    "                visited.add(next_state)\n",
    "                next_path = path.copy()\n",
    "                next_path.append(next_state)\n",
    "                stack.append(next_path)\n",
    "\n",
    "    # No solution\n",
    "    return None"
   ]
  },
  {
   "cell_type": "markdown",
   "id": "4dba84c5",
   "metadata": {},
   "source": [
    "The DFS algorithm is used to find the solution to the lion, goat, grass problem and the results are printed."
   ]
  },
  {
   "cell_type": "code",
   "execution_count": 10,
   "id": "db9c8713",
   "metadata": {},
   "outputs": [
    {
     "name": "stdout",
     "output_type": "stream",
     "text": [
      "Starting Side: Man Lion Goat Grass \n",
      "Target Side: \n",
      "\n",
      "Starting Side: Lion Grass \n",
      "Target Side: Man Goat \n",
      "\n",
      "Starting Side: Man Lion Grass \n",
      "Target Side: Goat \n",
      "\n",
      "Starting Side: Lion \n",
      "Target Side: Man Goat Grass \n",
      "\n",
      "Starting Side: Man Lion Goat \n",
      "Target Side: Grass \n",
      "\n",
      "Starting Side: Goat \n",
      "Target Side: Man Lion Grass \n",
      "\n",
      "Starting Side: Man Goat \n",
      "Target Side: Lion Grass \n",
      "\n",
      "Starting Side: \n",
      "Target Side: Man Lion Goat Grass \n",
      "\n"
     ]
    }
   ],
   "source": [
    "solution = dfs(start, goal)\n",
    "\n",
    "if solution:\n",
    "    for state in solution:\n",
    "        print_state(state)\n",
    "else:\n",
    "    print(\"No solution!\")"
   ]
  }
 ],
 "metadata": {
  "kernelspec": {
   "display_name": "Python 3",
   "language": "python",
   "name": "python3"
  },
  "language_info": {
   "codemirror_mode": {
    "name": "ipython",
    "version": 3
   },
   "file_extension": ".py",
   "mimetype": "text/x-python",
   "name": "python",
   "nbconvert_exporter": "python",
   "pygments_lexer": "ipython3",
   "version": "3.12.8"
  }
 },
 "nbformat": 4,
 "nbformat_minor": 5
}
